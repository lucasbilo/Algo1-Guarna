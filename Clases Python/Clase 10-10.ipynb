{
 "cells": [
  {
   "cell_type": "markdown",
   "metadata": {},
   "source": [
    "# Tipos de bugs:\n",
    "- Overflow (desbordamiento de variables numéricas)\n",
    "- Loop infinito\n",
    "- Pérdida de precisión y errores al operar con variables numéricas de distinto tipo, usar funciones de redondeo para evitar estos bugs. Métodos .floor() redondea hacia el número más bajo, .trunc() desecha los números después de la coma .ceil() redondea hacia arriba. round().\n",
    "- Iteraciones fuera de rango (off-by-one), en listas, cadenas de caracteres, etc. "
   ]
  },
  {
   "cell_type": "code",
   "execution_count": 4,
   "metadata": {},
   "outputs": [
    {
     "name": "stdout",
     "output_type": "stream",
     "text": [
      "3\n",
      "4\n",
      "3\n"
     ]
    }
   ],
   "source": [
    "import math\n",
    "\n",
    "print(math.floor(3.2))\n",
    "print(round(3.9))\n",
    "print(round(3.2))"
   ]
  },
  {
   "cell_type": "markdown",
   "metadata": {},
   "source": [
    "- Mutables vs inmutables: Listas vs Tuplas\n",
    "- Desbordamiento de pila (stack overflow), por ejemplo, un ciclo infinito donde se invoca a una subrutina.\n",
    "# Prevención y detección temprana de bugs\n",
    "Programación de a pares (pair programming)\n",
    "Revisión cruzada de código (code reviews)\n",
    "Pruebas unitarias (unit tests): cuando una función se usa para calcular algo, puedo hacer pruebas de entrada y salida para ver qué sucede en los casos límites, con entradas que elegimos nosotros y salidas esperadas.\n",
    "# Debugging\n",
    "Son las acciones que se llevan a cabo para la detección y posterior reducción de los bugs del software.\n",
    "Formas de analizar el software:\n",
    "Unit tests piensa el software como una caja negra con entradas y salidas. También puedo ver a caja blanca, mirando entradas, salidas y caminos internos.\n",
    "- Debuggers: \n",
    "Pycharm, VScode, etc.\n",
    "Permiten ejecutar un programa paso a paso y ver qué sucede a cada momento, deteniendo la ejecución con breakpoints, usando step over y step into. Visualizar y alterar el valor de una variable. \n"
   ]
  },
  {
   "cell_type": "markdown",
   "metadata": {},
   "source": [
    "# Recursividad\n",
    "Cuando una funcionalidad o una estructura de datos hace referencia a sí misma para definirse.\n",
    "Definición de números naturales: 0 pertenece a N y si n pertenece a N entonces n+1 pertenece a N\n",
    "Función factorial: de un natural positivo se define por recursividad si n es 0 el factorial es 1 y su n es mayor que 0 entonces el factorial de n es n * el factorial de n-1.\n"
   ]
  },
  {
   "cell_type": "code",
   "execution_count": 7,
   "metadata": {},
   "outputs": [
    {
     "data": {
      "text/plain": [
       "6"
      ]
     },
     "execution_count": 7,
     "metadata": {},
     "output_type": "execute_result"
    }
   ],
   "source": [
    "def factorial(n):\n",
    "    if n == 0:\n",
    "        return 1\n",
    "    return n * factorial(n-1)\n",
    "\n",
    "factorial(3)"
   ]
  },
  {
   "cell_type": "markdown",
   "metadata": {},
   "source": [
    "Factorial es una función que se llama a sí misma. En la ejecución de la función se forma un call stack.\n",
    "Números de fibonacci: Fib(0) = 1, Fib(1)=1 y para todo n mayor a 1 fib(n) = fib(n-1) + fib(n-2)"
   ]
  },
  {
   "cell_type": "code",
   "execution_count": 8,
   "metadata": {},
   "outputs": [],
   "source": [
    "def fib(n):\n",
    "    if n <= 1: return 1\n",
    "    return fib(n-1) + fib(n-2)"
   ]
  },
  {
   "cell_type": "markdown",
   "metadata": {},
   "source": [
    "Optimizando con mnemoization: \n",
    "Para evitarme los cálculos duplicados de las llamadas a fibonacci, almaceno los valores ya calculados.\n"
   ]
  },
  {
   "cell_type": "code",
   "execution_count": 10,
   "metadata": {},
   "outputs": [],
   "source": [
    "cache = {}\n",
    "\n",
    "def fib_m(n):\n",
    "    if n <= 1: return 1\n",
    "    if n not in cache:\n",
    "        cache[n]= fib_m(n-1) + fib_m(n-2)\n",
    "    return cache[n]"
   ]
  },
  {
   "cell_type": "markdown",
   "metadata": {},
   "source": [
    "# Búsqueda binaria\n",
    "Se puede definir de manera recursiva.\n"
   ]
  },
  {
   "cell_type": "code",
   "execution_count": null,
   "metadata": {},
   "outputs": [],
   "source": [
    "def busqbin(inicio, fin):\n",
    "    if ini > fin: return None\n",
    "    pos=(ini + fin)//2\n",
    "    if vec[pos]== \n",
    "    \n",
    "(incompleto)"
   ]
  },
  {
   "cell_type": "markdown",
   "metadata": {},
   "source": [
    "Otros métodos recursivos: merge sort. \n",
    "Torres de Hanoi.\n",
    "La recursividad se implementa a través del call stack, por eso corro riesgo de stack overflow.\n",
    "# Conversión iterativa\n",
    "Todo algoritmo recursivo también puede implementarse de forma iterativa."
   ]
  },
  {
   "cell_type": "code",
   "execution_count": 13,
   "metadata": {},
   "outputs": [],
   "source": [
    "def factorial_iterativo(n):\n",
    "    res = 1\n",
    "    if n >= 2:\n",
    "        for i in range(n,0, -1): res*=i\n",
    "    return res"
   ]
  },
  {
   "cell_type": "markdown",
   "metadata": {},
   "source": [
    "# Iterativo vs recursivo\n",
    "Los iterativos tienen codigo dificil de entender y se agregan variables adicionales pero no requieren el llamado a subrutinas\n",
    "Los recursivos son claros y conciso pero es mas dificil implementarlos y hacer seguimiento, ademas tienen el anidamiento de llamadas a subrutinas que da el riesgo a stack overflow.\n",
    "\n",
    "# Excepciones"
   ]
  },
  {
   "cell_type": "code",
   "execution_count": 16,
   "metadata": {},
   "outputs": [
    {
     "name": "stdout",
     "output_type": "stream",
     "text": [
      "ingrese a 1\n",
      "ingrese b 2\n",
      "0.5\n"
     ]
    }
   ],
   "source": [
    "a = int(input(\"ingrese a \"))\n",
    "b = int(input(\"ingrese b \"))\n",
    "print(a/b)"
   ]
  },
  {
   "cell_type": "markdown",
   "metadata": {},
   "source": [
    "Casos posibles: b=0, a, b flotantes, vacío.\n",
    "\n",
    "El manejo de excepciones permite \"atajarse\" en los casos en los que la función fallaría"
   ]
  },
  {
   "cell_type": "code",
   "execution_count": 18,
   "metadata": {},
   "outputs": [
    {
     "name": "stdout",
     "output_type": "stream",
     "text": [
      "ingrese a a\n"
     ]
    },
    {
     "ename": "NameError",
     "evalue": "name 'ZeroDivisionEror' is not defined",
     "output_type": "error",
     "traceback": [
      "\u001b[1;31m---------------------------------------------------------------------------\u001b[0m",
      "\u001b[1;31mValueError\u001b[0m                                Traceback (most recent call last)",
      "\u001b[1;32m<ipython-input-18-8069888afb4c>\u001b[0m in \u001b[0;36m<module>\u001b[1;34m\u001b[0m\n\u001b[0;32m      1\u001b[0m \u001b[1;32mtry\u001b[0m\u001b[1;33m:\u001b[0m\u001b[1;33m\u001b[0m\u001b[1;33m\u001b[0m\u001b[0m\n\u001b[1;32m----> 2\u001b[1;33m     \u001b[0ma\u001b[0m \u001b[1;33m=\u001b[0m \u001b[0mint\u001b[0m\u001b[1;33m(\u001b[0m\u001b[0minput\u001b[0m\u001b[1;33m(\u001b[0m\u001b[1;34m\"ingrese a \"\u001b[0m\u001b[1;33m)\u001b[0m\u001b[1;33m)\u001b[0m\u001b[1;33m\u001b[0m\u001b[1;33m\u001b[0m\u001b[0m\n\u001b[0m\u001b[0;32m      3\u001b[0m     \u001b[0mb\u001b[0m \u001b[1;33m=\u001b[0m \u001b[0mint\u001b[0m\u001b[1;33m(\u001b[0m\u001b[0minput\u001b[0m\u001b[1;33m(\u001b[0m\u001b[1;34m\"ingrese b \"\u001b[0m\u001b[1;33m)\u001b[0m\u001b[1;33m)\u001b[0m\u001b[1;33m\u001b[0m\u001b[1;33m\u001b[0m\u001b[0m\n",
      "\u001b[1;31mValueError\u001b[0m: invalid literal for int() with base 10: 'a'",
      "\nDuring handling of the above exception, another exception occurred:\n",
      "\u001b[1;31mNameError\u001b[0m                                 Traceback (most recent call last)",
      "\u001b[1;32m<ipython-input-18-8069888afb4c>\u001b[0m in \u001b[0;36m<module>\u001b[1;34m\u001b[0m\n\u001b[0;32m      3\u001b[0m     \u001b[0mb\u001b[0m \u001b[1;33m=\u001b[0m \u001b[0mint\u001b[0m\u001b[1;33m(\u001b[0m\u001b[0minput\u001b[0m\u001b[1;33m(\u001b[0m\u001b[1;34m\"ingrese b \"\u001b[0m\u001b[1;33m)\u001b[0m\u001b[1;33m)\u001b[0m\u001b[1;33m\u001b[0m\u001b[1;33m\u001b[0m\u001b[0m\n\u001b[0;32m      4\u001b[0m     \u001b[0mprint\u001b[0m\u001b[1;33m(\u001b[0m\u001b[0ma\u001b[0m\u001b[1;33m/\u001b[0m\u001b[0mb\u001b[0m\u001b[1;33m)\u001b[0m\u001b[1;33m\u001b[0m\u001b[1;33m\u001b[0m\u001b[0m\n\u001b[1;32m----> 5\u001b[1;33m \u001b[1;32mexcept\u001b[0m \u001b[0mZeroDivisionEror\u001b[0m\u001b[1;33m:\u001b[0m\u001b[1;33m\u001b[0m\u001b[1;33m\u001b[0m\u001b[0m\n\u001b[0m\u001b[0;32m      6\u001b[0m     \u001b[0mprint\u001b[0m\u001b[1;33m(\u001b[0m\u001b[1;34m\"Division por 0 no definida\"\u001b[0m\u001b[1;33m)\u001b[0m\u001b[1;33m\u001b[0m\u001b[1;33m\u001b[0m\u001b[0m\n\u001b[0;32m      7\u001b[0m \u001b[1;32mexcept\u001b[0m \u001b[1;33m(\u001b[0m\u001b[0mTypeError\u001b[0m\u001b[1;33m,\u001b[0m \u001b[0mValueError\u001b[0m\u001b[1;33m)\u001b[0m\u001b[1;33m:\u001b[0m\u001b[1;33m\u001b[0m\u001b[1;33m\u001b[0m\u001b[0m\n",
      "\u001b[1;31mNameError\u001b[0m: name 'ZeroDivisionEror' is not defined"
     ]
    }
   ],
   "source": [
    "try:\n",
    "    a = int(input(\"ingrese a \"))\n",
    "    b = int(input(\"ingrese b \"))\n",
    "    print(a/b)\n",
    "except ZeroDivisionEror:\n",
    "    print(\"Division por 0 no definida\")\n",
    "except (TypeError, ValueError):\n",
    "    print(\"Solo puedo dividir numeros!\")"
   ]
  }
 ],
 "metadata": {
  "kernelspec": {
   "display_name": "Python 3",
   "language": "python",
   "name": "python3"
  },
  "language_info": {
   "codemirror_mode": {
    "name": "ipython",
    "version": 3
   },
   "file_extension": ".py",
   "mimetype": "text/x-python",
   "name": "python",
   "nbconvert_exporter": "python",
   "pygments_lexer": "ipython3",
   "version": "3.7.3"
  }
 },
 "nbformat": 4,
 "nbformat_minor": 2
}
